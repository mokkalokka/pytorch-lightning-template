{
 "cells": [
  {
   "cell_type": "markdown",
   "metadata": {},
   "source": [
    "# This notebook allows you to inspect the model predictions interactively"
   ]
  },
  {
   "cell_type": "code",
   "execution_count": 181,
   "metadata": {},
   "outputs": [
    {
     "name": "stderr",
     "output_type": "stream",
     "text": [
      "/opt/homebrew/Caskroom/miniconda/base/envs/tdt4265/lib/python3.10/site-packages/pytorch_lightning/utilities/migration/utils.py:56: The loaded checkpoint was produced with Lightning v2.4.0, which is newer than your current Lightning version: v2.2.1\n"
     ]
    }
   ],
   "source": [
    "from datamodule import MNISTDataModule\n",
    "from trainer import LitModel\n",
    "import munch\n",
    "import yaml\n",
    "import matplotlib.pyplot as plt\n",
    "import json\n",
    "import torch\n",
    "import torchvision\n",
    "\n",
    "checkpoint_path = \"PATH_TO_WEIGHTS_HERE\" # The path to the trained weights (by default in the /checkpoints folder)\n",
    "device = \"cuda\"\n",
    "labels = json.load(open(\"cifar100_labels.json\"))\n",
    "config = munch.munchify(yaml.load(open(\"config.yaml\"), Loader=yaml.FullLoader))\n",
    "\n",
    "# Load model from checkpoint and set it to eval mode\n",
    "model = LitModel.load_from_checkpoint(\"PATH_TO_WEIGHTS_HERE\", config=config)\n",
    "model.eval()\n",
    "\n",
    "# Load the data from the datamodule\n",
    "dm = MNISTDataModule(batch_size=1)\n",
    "\n",
    "# Makes a iterable dataloader \n",
    "test_dl = dm.test_dataloader()\n",
    "iter_dl = iter(test_dl)"
   ]
  },
  {
   "cell_type": "code",
   "execution_count": 182,
   "metadata": {},
   "outputs": [],
   "source": [
    "class UnNormalize(torchvision.transforms.Normalize):\n",
    "    \"\"\"\n",
    "    Inverse normalization, usefull when visualizing an image with original colors.\n",
    "    \"\"\"\n",
    "    def __init__(self,mean,std,*args,**kwargs):\n",
    "        new_mean = [-m/s for m,s in zip(mean,std)]\n",
    "        new_std = [1/s for s in std]\n",
    "        super().__init__(new_mean, new_std, *args, **kwargs)\n",
    "\n",
    "mean = [0.4914, 0.4822, 0.4465]\n",
    "std = [0.2023, 0.1994, 0.2010]"
   ]
  },
  {
   "cell_type": "markdown",
   "metadata": {},
   "source": [
    "# Visualize predictions \n",
    "(re-run the block to get next image)"
   ]
  },
  {
   "cell_type": "code",
   "execution_count": 265,
   "metadata": {},
   "outputs": [
    {
     "data": {
      "text/plain": [
       "Text(0.5, 1.0, 'GT: orchid, Pred: orchid(100.0%)')"
      ]
     },
     "execution_count": 265,
     "metadata": {},
     "output_type": "execute_result"
    },
    {
     "data": {
      "image/png": "[encoded data removed]",
      "text/plain": [
       "<Figure size 640x480 with 1 Axes>"
      ]
     },
     "metadata": {},
     "output_type": "display_data"
    }
   ],
   "source": [
    "batch = next(iter_dl) # Load next sample\n",
    "x, y = batch\n",
    "x, y = x.to(device), y.to(device)\n",
    "\n",
    "\n",
    "logits = model(x) # Perform model prediction\n",
    "probs = torch.round(torch.softmax(logits, dim=1)[0] * 100) # Calculates the probabilities for the classes in %\n",
    "pred = torch.argmax(logits)\n",
    "\n",
    "orig_x = UnNormalize(mean, std)(x)\n",
    "plt.axis('off')\n",
    "plt.imshow(orig_x[0].cpu().permute(1,2,0)) # plt expects [H, W, C] but the data is in [C, H, W]\n",
    "plt.title(f\"GT: {labels[y]}, Pred: {labels[pred]}({probs[pred]}%)\", color=\"green\" if y == pred else \"red\")"
   ]
  }
 ],
 "metadata": {
  "kernelspec": {
   "display_name": "tdt4265",
   "language": "python",
   "name": "python3"
  },
  "language_info": {
   "codemirror_mode": {
    "name": "ipython",
    "version": 3
   },
   "file_extension": ".py",
   "mimetype": "text/x-python",
   "name": "python",
   "nbconvert_exporter": "python",
   "pygments_lexer": "ipython3",
   "version": "3.10.13"
  }
 },
 "nbformat": 4,
 "nbformat_minor": 2
}
